{
 "cells": [
  {
   "cell_type": "markdown",
   "metadata": {},
   "source": [
    "# Naver Movie Dataset\n",
    "\n",
    "17011724 최시우 / 17011739 이재훈 / 17011745 최영은"
   ]
  },
  {
   "cell_type": "code",
   "execution_count": 1,
   "metadata": {},
   "outputs": [],
   "source": [
    "from bs4 import BeautifulSoup\n",
    "import numpy as np\n",
    "import requests \n",
    "from urllib.request import urlopen\n",
    "import math\n",
    "import pymysql"
   ]
  },
  {
   "cell_type": "markdown",
   "metadata": {},
   "source": [
    "### 네이버 영화에서 필요한 데이터 크롤링"
   ]
  },
  {
   "cell_type": "code",
   "execution_count": 2,
   "metadata": {},
   "outputs": [],
   "source": [
    "genre_ = [\"드라마\", \"판타지\", \"서부\", \"공포\", \"멜로/로맨스\", \"모험\",\n",
    "          \"스릴러\", \"느와르\", \"컬트\", \"다큐멘터리\", \"코미디\", \"가족\",\n",
    "          \"미스터리\", \"전쟁\", \"애니메이션\", \"범죄\", \"뮤지컬\", \"SF\", \"액션\",\n",
    "          \"무협\", \"에로\", \"서스펜스\", \"서사\", \"블랙코미디\", \"실험\", \"공연실황\"]"
   ]
  },
  {
   "cell_type": "code",
   "execution_count": 3,
   "metadata": {},
   "outputs": [],
   "source": [
    "def movie_data(start, number):\n",
    "    code_list = []\n",
    "    movie_list = []\n",
    "    genre_list =[]\n",
    "    score_list = []\n",
    "    grp_list = []\n",
    "    html=[]\n",
    "    cnt=0 #평점과 감상포인트가 모두 등록된 영화 개수 카운트\n",
    "    k=0.1 # 계산을 위한 값\n",
    "    for n in range (start, (start+number)):\n",
    "        url = 'https://movie.naver.com/movie/bi/mi/point.nhn?code='+str(n)#영화 코드가 변함에 따라 웹페이지가 변함\n",
    "        resp = requests.get(url)\n",
    "        html.append(BeautifulSoup(resp.content, 'html.parser'))\n",
    "          \n",
    "    for i in range(number):\n",
    "        grp_point = html[i].find('ul', {'class': 'grp_point'})\n",
    "        netizen_score = html[i].find('div', {'id': 'netizen_point_tab_inner'})\n",
    "        if (grp_point != None) & (netizen_score != None):\n",
    "            tmp = grp_point.findAll('span')\n",
    "            for x in range (5):\n",
    "                tmp[x]=tmp[x].string  #숫자부분만 출력\n",
    "                \n",
    "            if '0%' not in tmp:\n",
    "                code_list.append(i+start)#코드번호 추출\n",
    "                movie_list.append(html[i].find('h3', {'class': 'h_movie'}).find('a').string) #영화이름 추출\n",
    "                genre_list.append(html[i].find('dl', {'class': 'info_spec'}).findAll(string=genre_))#영화장르 추출\n",
    "                grp_list.append(tmp)#영화 관람 포인트 추출\n",
    "                scr_list = netizen_score.findAll('em')  #영화 네티즌 평점 추출    \n",
    "                \n",
    "                scr_list[0]=float(scr_list[0].string) #영화 네티즌 평점을 float형으로 고치기 위한 코드\n",
    "                score = scr_list[0]\n",
    "                for a in range (2):\n",
    "                    scr_list[a+1]=scr_list[a+2]\n",
    "                    scr_list[a+1]=float(scr_list[a+1].string)\n",
    "                    score = score + scr_list[a+1] * k\n",
    "                    k=k/10\n",
    "                score_list.append(score)\n",
    "                cnt=cnt+1\n",
    "        k=0.1   \n",
    "    movie_data_set = ([[0]*9 for i in range(cnt)])\n",
    "    for i in range (cnt):\n",
    "        movie_data_set[i][0] = code_list[i] #영화코드\n",
    "        movie_data_set[i][1] = movie_list[i] #영화이름\n",
    "        movie_data_set[i][2] = genre_list[i] #영화장르\n",
    "        \n",
    "        movie_data_set[i][3] = grp_list[i][0] #영화 관람포인트\n",
    "        movie_data_set[i][4] = grp_list[i][1]\n",
    "        movie_data_set[i][5] = grp_list[i][2]\n",
    "        movie_data_set[i][6] = grp_list[i][3]\n",
    "        movie_data_set[i][7] = grp_list[i][4]\n",
    "        \n",
    "        movie_data_set[i][8] = score_list[i] #영화 평점\n",
    "        \n",
    "    for i in range (cnt): #영화 관람포인트를 float형으로 고치기 위한 코드\n",
    "        for j in range(3,8):\n",
    "            if '%' not in movie_data_set[i][j][0:2]:\n",
    "                movie_data_set[i][j]=float(movie_data_set[i][j][0:2])/100\n",
    "            else:\n",
    "                movie_data_set[i][j]=float(movie_data_set[i][j][0:1])/100\n",
    "   \n",
    "    return movie_data_set"
   ]
  },
  {
   "cell_type": "code",
   "execution_count": 4,
   "metadata": {
    "scrolled": true
   },
   "outputs": [
    {
     "name": "stdout",
     "output_type": "stream",
     "text": [
      "167600\n",
      "100\n"
     ]
    },
    {
     "data": {
      "text/plain": [
       "[[167602,\n",
       "  '나를 차버린 스파이',\n",
       "  ['액션', '코미디'],\n",
       "  0.19,\n",
       "  0.38,\n",
       "  0.26,\n",
       "  0.1,\n",
       "  0.07,\n",
       "  7.930000000000001],\n",
       " [167605, '터미네이터: 다크 페이트', ['SF', '액션'], 0.29, 0.21, 0.19, 0.22, 0.09, 8.62],\n",
       " [167613, '조커', ['스릴러', '드라마'], 0.2, 0.34, 0.17, 0.14, 0.14, 8.65],\n",
       " [167615, '이스케이프 플랜3', ['액션'], 0.17, 0.22, 0.22, 0.17, 0.22, 2.67],\n",
       " [167616, '그때 그들', ['드라마', '코미디'], 0.29, 0.29, 0.14, 0.14, 0.14, 7.28],\n",
       " [167629, '어쩌다, 결혼', ['멜로/로맨스', '코미디'], 0.1, 0.3, 0.3, 0.15, 0.15, 4.46],\n",
       " [167633, '마담 싸이코', ['스릴러'], 0.29, 0.35, 0.18, 0.1, 0.08, 6.81],\n",
       " [167635, '말레피센트 2', ['판타지'], 0.19, 0.23, 0.18, 0.31, 0.09, 7.619999999999999],\n",
       " [167638, '완벽한 타인', ['드라마', '코미디'], 0.24, 0.34, 0.32, 0.05, 0.04, 8.62],\n",
       " [167647, '풀잎들', ['드라마'], 0.28, 0.28, 0.28, 0.06, 0.11, 7.609999999999999],\n",
       " [167651, '극한직업', ['코미디'], 0.28, 0.38, 0.2, 0.06, 0.07, 8.52],\n",
       " [167653,\n",
       "  '광대들: 풍문조작단',\n",
       "  ['드라마'],\n",
       "  0.2,\n",
       "  0.37,\n",
       "  0.27,\n",
       "  0.11,\n",
       "  0.05,\n",
       "  6.359999999999999],\n",
       " [167657, '명탐정 피카츄', ['액션', '모험', '코미디'], 0.21, 0.1, 0.21, 0.41, 0.07, 8.09],\n",
       " [167697, '신과함께-인과 연', ['판타지', '드라마'], 0.18, 0.28, 0.3, 0.17, 0.07, 7.71],\n",
       " [167699, '말모이', ['드라마'], 0.19, 0.3, 0.38, 0.08, 0.06, 9.09]]"
      ]
     },
     "execution_count": 4,
     "metadata": {},
     "output_type": "execute_result"
    }
   ],
   "source": [
    "start=int(input()) #영화 조사 시작\n",
    "number=int(input()) #조사할 영화 수\n",
    "DATASET=movie_data(start,number)\n",
    "start=start+number #조사가 끝난후 시작점 갱신\n",
    "DATASET"
   ]
  },
  {
   "cell_type": "code",
   "execution_count": 5,
   "metadata": {
    "scrolled": true
   },
   "outputs": [
    {
     "name": "stdout",
     "output_type": "stream",
     "text": [
      "100\n"
     ]
    },
    {
     "data": {
      "text/plain": [
       "[[167602,\n",
       "  '나를 차버린 스파이',\n",
       "  ['액션', '코미디'],\n",
       "  0.19,\n",
       "  0.38,\n",
       "  0.26,\n",
       "  0.1,\n",
       "  0.07,\n",
       "  7.930000000000001],\n",
       " [167605, '터미네이터: 다크 페이트', ['SF', '액션'], 0.29, 0.21, 0.19, 0.22, 0.09, 8.62],\n",
       " [167613, '조커', ['스릴러', '드라마'], 0.2, 0.34, 0.17, 0.14, 0.14, 8.65],\n",
       " [167615, '이스케이프 플랜3', ['액션'], 0.17, 0.22, 0.22, 0.17, 0.22, 2.67],\n",
       " [167616, '그때 그들', ['드라마', '코미디'], 0.29, 0.29, 0.14, 0.14, 0.14, 7.28],\n",
       " [167629, '어쩌다, 결혼', ['멜로/로맨스', '코미디'], 0.1, 0.3, 0.3, 0.15, 0.15, 4.46],\n",
       " [167633, '마담 싸이코', ['스릴러'], 0.29, 0.35, 0.18, 0.1, 0.08, 6.81],\n",
       " [167635, '말레피센트 2', ['판타지'], 0.19, 0.23, 0.18, 0.31, 0.09, 7.619999999999999],\n",
       " [167638, '완벽한 타인', ['드라마', '코미디'], 0.24, 0.34, 0.32, 0.05, 0.04, 8.62],\n",
       " [167647, '풀잎들', ['드라마'], 0.28, 0.28, 0.28, 0.06, 0.11, 7.609999999999999],\n",
       " [167651, '극한직업', ['코미디'], 0.28, 0.38, 0.2, 0.06, 0.07, 8.52],\n",
       " [167653,\n",
       "  '광대들: 풍문조작단',\n",
       "  ['드라마'],\n",
       "  0.2,\n",
       "  0.37,\n",
       "  0.27,\n",
       "  0.11,\n",
       "  0.05,\n",
       "  6.359999999999999],\n",
       " [167657, '명탐정 피카츄', ['액션', '모험', '코미디'], 0.21, 0.1, 0.21, 0.41, 0.07, 8.09],\n",
       " [167697, '신과함께-인과 연', ['판타지', '드라마'], 0.18, 0.28, 0.3, 0.17, 0.07, 7.71],\n",
       " [167699, '말모이', ['드라마'], 0.19, 0.3, 0.38, 0.08, 0.06, 9.09],\n",
       " [167787, '허스토리', ['드라마'], 0.2, 0.2, 0.33, 0.13, 0.13, 9.29]]"
      ]
     },
     "execution_count": 5,
     "metadata": {},
     "output_type": "execute_result"
    }
   ],
   "source": [
    "number=int(input()) #조사할 영화수(추가조사)\n",
    "DATASET.extend(movie_data(start,number)) #갱신된 시작점에서 조사할 영화수만큼 조사->불필요한 수집 방지\n",
    "start=start+number\n",
    "DATASET"
   ]
  },
  {
   "cell_type": "code",
   "execution_count": 6,
   "metadata": {},
   "outputs": [
    {
     "data": {
      "text/plain": [
       "[['액션', '코미디', None],\n",
       " ['SF', '액션', None],\n",
       " ['스릴러', '드라마', None],\n",
       " ['액션', None, None],\n",
       " ['드라마', '코미디', None],\n",
       " ['멜로/로맨스', '코미디', None],\n",
       " ['스릴러', None, None],\n",
       " ['판타지', None, None],\n",
       " ['드라마', '코미디', None],\n",
       " ['드라마', None, None],\n",
       " ['코미디', None, None],\n",
       " ['드라마', None, None],\n",
       " ['액션', '모험', '코미디'],\n",
       " ['판타지', '드라마', None],\n",
       " ['드라마', None, None],\n",
       " ['드라마', None, None]]"
      ]
     },
     "execution_count": 6,
     "metadata": {},
     "output_type": "execute_result"
    }
   ],
   "source": [
    "#네이버 영화에서 추출해온 DATASET의 장르를 따로 분리(데이터베이스에서 용이하게 다루기 위함)\n",
    "genre_list = []\n",
    "n=len(DATASET)\n",
    "for i in range (n):\n",
    "    tmp=DATASET[i].pop(2)\n",
    "    genre_list.append(tmp)\n",
    "    while( np.size(genre_list[i])<3):\n",
    "        genre_list[i].append(None)\n",
    "    \n",
    "genre_list"
   ]
  },
  {
   "cell_type": "code",
   "execution_count": 7,
   "metadata": {},
   "outputs": [
    {
     "data": {
      "text/plain": [
       "[[167602, '나를 차버린 스파이', 0.19, 0.38, 0.26, 0.1, 0.07, 7.930000000000001],\n",
       " [167605, '터미네이터: 다크 페이트', 0.29, 0.21, 0.19, 0.22, 0.09, 8.62],\n",
       " [167613, '조커', 0.2, 0.34, 0.17, 0.14, 0.14, 8.65],\n",
       " [167615, '이스케이프 플랜3', 0.17, 0.22, 0.22, 0.17, 0.22, 2.67],\n",
       " [167616, '그때 그들', 0.29, 0.29, 0.14, 0.14, 0.14, 7.28],\n",
       " [167629, '어쩌다, 결혼', 0.1, 0.3, 0.3, 0.15, 0.15, 4.46],\n",
       " [167633, '마담 싸이코', 0.29, 0.35, 0.18, 0.1, 0.08, 6.81],\n",
       " [167635, '말레피센트 2', 0.19, 0.23, 0.18, 0.31, 0.09, 7.619999999999999],\n",
       " [167638, '완벽한 타인', 0.24, 0.34, 0.32, 0.05, 0.04, 8.62],\n",
       " [167647, '풀잎들', 0.28, 0.28, 0.28, 0.06, 0.11, 7.609999999999999],\n",
       " [167651, '극한직업', 0.28, 0.38, 0.2, 0.06, 0.07, 8.52],\n",
       " [167653, '광대들: 풍문조작단', 0.2, 0.37, 0.27, 0.11, 0.05, 6.359999999999999],\n",
       " [167657, '명탐정 피카츄', 0.21, 0.1, 0.21, 0.41, 0.07, 8.09],\n",
       " [167697, '신과함께-인과 연', 0.18, 0.28, 0.3, 0.17, 0.07, 7.71],\n",
       " [167699, '말모이', 0.19, 0.3, 0.38, 0.08, 0.06, 9.09],\n",
       " [167787, '허스토리', 0.2, 0.2, 0.33, 0.13, 0.13, 9.29]]"
      ]
     },
     "execution_count": 7,
     "metadata": {},
     "output_type": "execute_result"
    }
   ],
   "source": [
    "DATASET"
   ]
  },
  {
   "cell_type": "markdown",
   "metadata": {},
   "source": [
    "### 크롤링한 데이터를 바탕으로 DB연동"
   ]
  },
  {
   "cell_type": "code",
   "execution_count": 9,
   "metadata": {},
   "outputs": [],
   "source": [
    "# Movie 테이블에 영화 데이터 삽입\n",
    "\n",
    "conn = pymysql.connect(host='localhost', user='root', password='0000', db='moviers', charset='utf8')\n",
    "curs = conn.cursor()\n",
    "\n",
    "sql = \"insert into movie(영화번호, 영화명, 연출, 연기, 스토리, 영상미, OST, 평점) values (%s, %s, %s, %s, %s, %s, %s, %s)\"\n",
    "curs.executemany(sql, DATASET)\n",
    "\n",
    "conn.commit()"
   ]
  },
  {
   "cell_type": "code",
   "execution_count": 10,
   "metadata": {},
   "outputs": [],
   "source": [
    "# MovieGenre 테이블에 번호, 영화번호, 장르 데이터 삽입\n",
    "\n",
    "conn = pymysql.connect(host='localhost', user='root', password='0000',db='moviers', charset='utf8')\n",
    "curs = conn.cursor()\n",
    "\n",
    "for i in range(0,n):\n",
    "    sql = \"insert into moviegenre(번호, 영화번호, 장르1, 장르2, 장르3) values (%s, %s, %s, %s, %s)\"\n",
    "    curs.execute(sql, (i+1, DATASET[i][0], genre_list[i][0], genre_list[i][1], genre_list[i][2]))\n",
    "\n",
    "conn.commit()"
   ]
  },
  {
   "cell_type": "code",
   "execution_count": 13,
   "metadata": {},
   "outputs": [],
   "source": [
    "# WatchingPoint 테이블에서 유저의 관람포인트 세 개를 추출\n",
    "\n",
    "conn = pymysql.connect(host='localhost', user='root', password='0000', db='moviers', charset='utf8')\n",
    "curs = conn.cursor()\n",
    "\n",
    "sql = \"select 관람포인트1, 관람포인트2, 관람포인트3 from watchingpoint\"\n",
    "curs.execute(sql)\n",
    "\n",
    "rows = curs.fetchall()\n",
    "\n",
    "user_input = []\n",
    "for i in range (0,3):\n",
    "    user_input.append(rows[0][i])\n",
    "    user_input[i] = user_input[i] + 2"
   ]
  },
  {
   "cell_type": "markdown",
   "metadata": {},
   "source": [
    "### 사용자가 선택한 관람포인트와 가중평점을 곱하여 영화를 추천"
   ]
  },
  {
   "cell_type": "code",
   "execution_count": 14,
   "metadata": {
    "scrolled": false
   },
   "outputs": [
    {
     "data": {
      "text/plain": [
       "[[167651, '극한직업', 0.28, 0.38, 0.2, 0.06, 0.07, 8.52],\n",
       " [167638, '완벽한 타인', 0.24, 0.34, 0.32, 0.05, 0.04, 8.62],\n",
       " [167699, '말모이', 0.19, 0.3, 0.38, 0.08, 0.06, 9.09],\n",
       " [167647, '풀잎들', 0.28, 0.28, 0.28, 0.06, 0.11, 7.609999999999999],\n",
       " [167605, '터미네이터: 다크 페이트', 0.29, 0.21, 0.19, 0.22, 0.09, 8.62],\n",
       " [167787, '허스토리', 0.2, 0.2, 0.33, 0.13, 0.13, 9.29],\n",
       " [167602, '나를 차버린 스파이', 0.19, 0.38, 0.26, 0.1, 0.07, 7.930000000000001],\n",
       " [167613, '조커', 0.2, 0.34, 0.17, 0.14, 0.14, 8.65],\n",
       " [167633, '마담 싸이코', 0.29, 0.35, 0.18, 0.1, 0.08, 6.81],\n",
       " [167616, '그때 그들', 0.29, 0.29, 0.14, 0.14, 0.14, 7.28],\n",
       " [167697, '신과함께-인과 연', 0.18, 0.28, 0.3, 0.17, 0.07, 7.71],\n",
       " [167653, '광대들: 풍문조작단', 0.2, 0.37, 0.27, 0.11, 0.05, 6.359999999999999],\n",
       " [167635, '말레피센트 2', 0.19, 0.23, 0.18, 0.31, 0.09, 7.619999999999999],\n",
       " [167657, '명탐정 피카츄', 0.21, 0.1, 0.21, 0.41, 0.07, 8.09],\n",
       " [167629, '어쩌다, 결혼', 0.1, 0.3, 0.3, 0.15, 0.15, 4.46],\n",
       " [167615, '이스케이프 플랜3', 0.17, 0.22, 0.22, 0.17, 0.22, 2.67]]"
      ]
     },
     "execution_count": 14,
     "metadata": {},
     "output_type": "execute_result"
    }
   ],
   "source": [
    "#사용자가 임의로 입력한 관람포인트 순서대로 관람포인트 점수와 가중치를 값을 더하여 \n",
    "#영화 평점과 곱한 새로운 가중평점순으로 영화를 추천해줌\n",
    "Sum=0\n",
    "user_choice=[]\n",
    "#user_input=[] #사용자가 선호하는 관람포인트를 인덱스로 입력 받음\n",
    "c_rating=[] #가중평점\n",
    "weight=[2.5, 1.5, 1] # 가중치. \n",
    "Index=[]\n",
    "\n",
    "#for i in range (3):\n",
    "#    user_input.append(int(input()))\n",
    "#    user_input[i]=user_input[i]+2\n",
    "for i in range (n):\n",
    "    for j in range(3):\n",
    "        user_choice.append(DATASET[i][user_input[j]]*weight[j])\n",
    "        Sum = Sum + user_choice[j]\n",
    "    c_rating.append(round(Sum*DATASET[i][7],3))\n",
    "    Sum=0 #연산값 초기화\n",
    "    user_choice=[] #배열 초기화\n",
    "for i in range (n):                 \n",
    "    tmp=c_rating.index(max(c_rating))\n",
    "    Index.append(tmp)\n",
    "    c_rating[tmp]=-1\n",
    "    \n",
    "r_DATASET =([[] for i in range(n)])\n",
    "for i in range (n):\n",
    "    r_DATASET[i]=DATASET[Index[i]]\n",
    "#movie_rating=np.array(movie_rating)\n",
    "r_DATASET"
   ]
  },
  {
   "cell_type": "markdown",
   "metadata": {},
   "source": [
    "영화의 유사도를 코사인 메소드를 통해 구함"
   ]
  },
  {
   "cell_type": "code",
   "execution_count": 15,
   "metadata": {},
   "outputs": [],
   "source": [
    "movie_rating =([[] for i in range(n)])\n",
    "for i in range (n):\n",
    "    for j in range(2,7):\n",
    "        movie_rating[i].append(r_DATASET[i][j])\n",
    "\n",
    "movie_rating=np.array(movie_rating)\n",
    "\n",
    "#print(type(movie_rating[0][0]))\n",
    "#print(movie_rating[0][0])\n",
    "movie_rating\n",
    "def cos(a):\n",
    "    #a=a*10 #편의로 10을 곱함\n",
    "    #a=a[:,1:6] # 행렬(movie_rating의 평점과 가중평점을 제외)\n",
    "    sim=np.full((n,n),0.0)# 초기화\n",
    "    for i in range(0,n):\n",
    "        for j in range(i,n):\n",
    "            InnerDot=np.dot(a[i,],a[j,])\n",
    "            Normi=np.linalg.norm(a[i,])\n",
    "            Normj=np.linalg.norm(a[j,])\n",
    "            sim[i,j]=InnerDot/(Normi*Normj)\n",
    "            sim[i,j]=round(sim[i,j],3)\n",
    "            sim[j,i]=sim[i,j]\n",
    "            \n",
    "    return sim"
   ]
  },
  {
   "cell_type": "code",
   "execution_count": 16,
   "metadata": {
    "scrolled": true
   },
   "outputs": [
    {
     "data": {
      "text/plain": [
       "array([[1.   , 0.966, 0.914, 0.966, 0.893, 0.874, 0.975, 0.964, 0.995,\n",
       "        0.957, 0.919, 0.973, 0.814, 0.62 , 0.877, 0.856],\n",
       "       [0.966, 1.   , 0.984, 0.979, 0.871, 0.935, 0.98 , 0.922, 0.952,\n",
       "        0.895, 0.959, 0.984, 0.798, 0.635, 0.919, 0.853],\n",
       "       [0.914, 0.984, 1.   , 0.961, 0.857, 0.967, 0.961, 0.895, 0.902,\n",
       "        0.852, 0.975, 0.967, 0.81 , 0.677, 0.95 , 0.875],\n",
       "       [0.966, 0.979, 0.961, 1.   , 0.919, 0.958, 0.958, 0.94 , 0.965,\n",
       "        0.944, 0.951, 0.96 , 0.826, 0.682, 0.912, 0.909],\n",
       "       [0.893, 0.871, 0.857, 0.919, 1.   , 0.915, 0.882, 0.923, 0.931,\n",
       "        0.96 , 0.93 , 0.893, 0.958, 0.892, 0.858, 0.919],\n",
       "       [0.874, 0.935, 0.967, 0.958, 0.915, 1.   , 0.917, 0.898, 0.884,\n",
       "        0.883, 0.972, 0.923, 0.872, 0.788, 0.953, 0.947],\n",
       "       [0.975, 0.98 , 0.961, 0.958, 0.882, 0.917, 1.   , 0.97 , 0.967,\n",
       "        0.923, 0.968, 0.998, 0.852, 0.668, 0.951, 0.889],\n",
       "       [0.964, 0.922, 0.895, 0.94 , 0.923, 0.898, 0.97 , 1.   , 0.974,\n",
       "        0.975, 0.942, 0.963, 0.903, 0.726, 0.938, 0.942],\n",
       "       [0.995, 0.952, 0.902, 0.965, 0.931, 0.884, 0.967, 0.974, 1.   ,\n",
       "        0.98 , 0.927, 0.966, 0.859, 0.685, 0.878, 0.881],\n",
       "       [0.957, 0.895, 0.852, 0.944, 0.96 , 0.883, 0.923, 0.975, 0.98 ,\n",
       "        1.   , 0.906, 0.92 , 0.897, 0.752, 0.866, 0.925],\n",
       "       [0.919, 0.959, 0.975, 0.951, 0.93 , 0.972, 0.968, 0.942, 0.927,\n",
       "        0.906, 1.   , 0.975, 0.92 , 0.806, 0.971, 0.928],\n",
       "       [0.973, 0.984, 0.967, 0.96 , 0.893, 0.923, 0.998, 0.963, 0.966,\n",
       "        0.92 , 0.975, 1.   , 0.861, 0.688, 0.947, 0.883],\n",
       "       [0.814, 0.798, 0.81 , 0.826, 0.958, 0.872, 0.852, 0.903, 0.859,\n",
       "        0.897, 0.92 , 0.861, 1.   , 0.946, 0.877, 0.911],\n",
       "       [0.62 , 0.635, 0.677, 0.682, 0.892, 0.788, 0.668, 0.726, 0.685,\n",
       "        0.752, 0.806, 0.688, 0.946, 1.   , 0.737, 0.806],\n",
       "       [0.877, 0.919, 0.95 , 0.912, 0.858, 0.953, 0.951, 0.938, 0.878,\n",
       "        0.866, 0.971, 0.947, 0.877, 0.737, 1.   , 0.95 ],\n",
       "       [0.856, 0.853, 0.875, 0.909, 0.919, 0.947, 0.889, 0.942, 0.881,\n",
       "        0.925, 0.928, 0.883, 0.911, 0.806, 0.95 , 1.   ]])"
      ]
     },
     "execution_count": 16,
     "metadata": {},
     "output_type": "execute_result"
    }
   ],
   "source": [
    "sim=cos(movie_rating)#1에 가까울수록 영화의 관람포인트가 유사함.\n",
    "sim"
   ]
  },
  {
   "cell_type": "code",
   "execution_count": 17,
   "metadata": {},
   "outputs": [],
   "source": [
    "def return_index(i):\n",
    "    b=[]\n",
    "    a=list(sim[i])\n",
    "    a[i]=-1 #a[i]는 비교하려는 영화와 같음으로 -1로 초기화\n",
    "\n",
    "    for i in range (10):   #인덱스가 1인 영화와 유사한 영화를 평점과 상관없이                     \n",
    "        tmp=a.index(max(a))#10개를 선정하여 리턴\n",
    "        b.append(tmp)\n",
    "        a[tmp]=-1\n",
    "    return b"
   ]
  },
  {
   "cell_type": "code",
   "execution_count": 18,
   "metadata": {
    "scrolled": true
   },
   "outputs": [
    {
     "name": "stdout",
     "output_type": "stream",
     "text": [
      "1\n"
     ]
    },
    {
     "data": {
      "text/plain": [
       "[[167613, '조커', 0.2, 0.34, 0.17, 0.14, 0.14, 8.65],\n",
       " [167653, '광대들: 풍문조작단', 0.2, 0.37, 0.27, 0.11, 0.05, 6.359999999999999],\n",
       " [167633, '마담 싸이코', 0.29, 0.35, 0.18, 0.1, 0.08, 6.81],\n",
       " [167615, '이스케이프 플랜3', 0.17, 0.22, 0.22, 0.17, 0.22, 2.67],\n",
       " [167602, '나를 차버린 스파이', 0.19, 0.38, 0.26, 0.1, 0.07, 7.930000000000001],\n",
       " [167651, '극한직업', 0.28, 0.38, 0.2, 0.06, 0.07, 8.52],\n",
       " [167638, '완벽한 타인', 0.24, 0.34, 0.32, 0.05, 0.04, 8.62],\n",
       " [167629, '어쩌다, 결혼', 0.1, 0.3, 0.3, 0.15, 0.15, 4.46],\n",
       " [167635, '말레피센트 2', 0.19, 0.23, 0.18, 0.31, 0.09, 7.619999999999999],\n",
       " [167699, '말모이', 0.19, 0.3, 0.38, 0.08, 0.06, 9.09]]"
      ]
     },
     "execution_count": 18,
     "metadata": {},
     "output_type": "execute_result"
    }
   ],
   "source": [
    "i=int(input()) #사용자가 선택한 영화의 인덱스\n",
    "k=return_index(i)#유사도가 높은 영화의 인덱스를 저장함\n",
    "r_movie = [] #영화 추천리스트 생성\n",
    "tmp=[]\n",
    "for i in range(10): \n",
    "    r_movie.append(DATASET[k[i]])   \n",
    "r_movie"
   ]
  },
  {
   "cell_type": "code",
   "execution_count": 19,
   "metadata": {},
   "outputs": [],
   "source": [
    "# 구현한 추천시스템을 통해 나온 결과를 recommendation 테이블에 데이터 삽입\n",
    "\n",
    "conn = pymysql.connect(host='localhost', user='root', password='0000', db='moviers', charset='utf8')\n",
    "curs = conn.cursor()\n",
    "\n",
    "sql = \"insert into recommendation(영화번호, 영화명, 연출, 연기, 스토리, 영상미, OST, 평점) values (%s, %s, %s, %s, %s, %s, %s, %s)\"\n",
    "curs.executemany(sql, r_movie)\n",
    "\n",
    "conn.commit()"
   ]
  }
 ],
 "metadata": {
  "kernelspec": {
   "display_name": "Python 3",
   "language": "python",
   "name": "python3"
  },
  "language_info": {
   "codemirror_mode": {
    "name": "ipython",
    "version": 3
   },
   "file_extension": ".py",
   "mimetype": "text/x-python",
   "name": "python",
   "nbconvert_exporter": "python",
   "pygments_lexer": "ipython3",
   "version": "3.7.1"
  }
 },
 "nbformat": 4,
 "nbformat_minor": 2
}
